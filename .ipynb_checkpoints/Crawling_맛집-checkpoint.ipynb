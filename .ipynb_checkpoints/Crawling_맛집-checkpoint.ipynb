{
 "cells": [
  {
   "cell_type": "code",
   "execution_count": 36,
   "metadata": {},
   "outputs": [],
   "source": [
    "from bs4 import BeautifulSoup\n",
    "from urllib.request import urlopen\n",
    "import pandas as pd"
   ]
  },
  {
   "cell_type": "code",
   "execution_count": 42,
   "metadata": {},
   "outputs": [],
   "source": [
    "url = 'https://www.menupan.com/restaurant/search/search_main_sub_area.asp?page=1&areacode=dj202&trec=67/'\n",
    "page = urlopen(url)\n",
    "\n",
    "soup = BeautifulSoup(page, 'html.parser')"
   ]
  },
  {
   "cell_type": "code",
   "execution_count": 41,
   "metadata": {},
   "outputs": [
    {
     "data": {
      "text/plain": [
       "0"
      ]
     },
     "execution_count": 41,
     "metadata": {},
     "output_type": "execute_result"
    }
   ],
   "source": [
    "uls = soup.find_all(class_='areaList')\n",
    "len(uls)"
   ]
  },
  {
   "cell_type": "code",
   "execution_count": 9,
   "metadata": {},
   "outputs": [
    {
     "data": {
      "text/plain": [
       "<div class=\"ifo\">\n",
       "<dl>\n",
       "<dt><a href=\"/restaurant/onepage.asp?acode=B300004\" target=\"_blank\">라라랄라어은점</a><p class=\"btn\"><a class=\"detBtn\" href=\"/restaurant/onepage.asp?acode=B300004\" target=\"_blank\">자세히보기</a></p></dt>\n",
       "<dd class=\"rate\">\n",
       "<p class=\"point\"><span class=\"star\" style=\"width:83.125%\"></span><!-- ☆☆☆☆☆ //--></p>\n",
       "<p class=\"score\"><span class=\"total\">4.2</span><span class=\"line\">|</span><span class=\"count\">16명 참여</span></p>\n",
       "</dd>\n",
       "<dd>분식<span class=\"barr\">|</span> 대전 유성구 어은동 108-3</dd>\n",
       "<dd>(042)862-3838</dd>\n",
       "<dd class=\"ic\"><img alt=\"프리쿠폰\" class=\"ico_type\" src=\"/image/restaurant/bestrest/ic_coupon.gif\"/><span class=\"typeadd\">도도김밥 한줄 제공</span></dd>\n",
       "<dd class=\"comnt\"><a href=\"/restaurant/onepage.asp?acode=B300004\" target=\"_blank\">라라랄라의 모든 음식에는 원가절감을 위해, \n",
       "\n",
       "혹은 미각을 교란시켜 맛있는 척 하기 위해 사용하는 \n",
       "\n",
       "조미료 및 어떠한 화학첨가물도 들어가지 않는다. \n",
       "\n",
       "오로지 자연에서...</a></dd>\n",
       "</dl>\n",
       "</div>"
      ]
     },
     "execution_count": 9,
     "metadata": {},
     "output_type": "execute_result"
    }
   ],
   "source": [
    "lis = uls[0].find_all(class_='ifo')\n",
    "lis[0]"
   ]
  },
  {
   "cell_type": "code",
   "execution_count": 10,
   "metadata": {},
   "outputs": [
    {
     "data": {
      "text/plain": [
       "'라라랄라어은점'"
      ]
     },
     "execution_count": 10,
     "metadata": {},
     "output_type": "execute_result"
    }
   ],
   "source": [
    "#식당 이름 가져오는거\n",
    "li = lis[0]\n",
    "li.find('a').get_text()"
   ]
  },
  {
   "cell_type": "code",
   "execution_count": 15,
   "metadata": {},
   "outputs": [
    {
     "data": {
      "text/plain": [
       "'4.2'"
      ]
     },
     "execution_count": 15,
     "metadata": {},
     "output_type": "execute_result"
    }
   ],
   "source": [
    "#평점가저오는거\n",
    "li.find(class_='total').get_text()"
   ]
  },
  {
   "cell_type": "code",
   "execution_count": 16,
   "metadata": {},
   "outputs": [
    {
     "data": {
      "text/plain": [
       "[<dd class=\"rate\">\n",
       " <p class=\"point\"><span class=\"star\" style=\"width:83.125%\"></span><!-- ☆☆☆☆☆ //--></p>\n",
       " <p class=\"score\"><span class=\"total\">4.2</span><span class=\"line\">|</span><span class=\"count\">16명 참여</span></p>\n",
       " </dd>,\n",
       " <dd>분식<span class=\"barr\">|</span> 대전 유성구 어은동 108-3</dd>,\n",
       " <dd>(042)862-3838</dd>,\n",
       " <dd class=\"ic\"><img alt=\"프리쿠폰\" class=\"ico_type\" src=\"/image/restaurant/bestrest/ic_coupon.gif\"/><span class=\"typeadd\">도도김밥 한줄 제공</span></dd>,\n",
       " <dd class=\"comnt\"><a href=\"/restaurant/onepage.asp?acode=B300004\" target=\"_blank\">라라랄라의 모든 음식에는 원가절감을 위해, \n",
       " \n",
       " 혹은 미각을 교란시켜 맛있는 척 하기 위해 사용하는 \n",
       " \n",
       " 조미료 및 어떠한 화학첨가물도 들어가지 않는다. \n",
       " \n",
       " 오로지 자연에서...</a></dd>]"
      ]
     },
     "execution_count": 16,
     "metadata": {},
     "output_type": "execute_result"
    }
   ],
   "source": [
    "dds = li.find_all('dd')\n",
    "dds"
   ]
  },
  {
   "cell_type": "code",
   "execution_count": 22,
   "metadata": {},
   "outputs": [
    {
     "data": {
      "text/plain": [
       "'분식| 대전 유성구 어은동 108-3'"
      ]
     },
     "execution_count": 22,
     "metadata": {},
     "output_type": "execute_result"
    }
   ],
   "source": [
    "# 분식, 주소, 번호 찾기\n",
    "dds[1].get_text()"
   ]
  },
  {
   "cell_type": "code",
   "execution_count": 23,
   "metadata": {},
   "outputs": [
    {
     "data": {
      "text/plain": [
       "['분식', '대전 유성구 어은동 108-3']"
      ]
     },
     "execution_count": 23,
     "metadata": {},
     "output_type": "execute_result"
    }
   ],
   "source": [
    "tmp = dds[1].get_text()\n",
    "tmp.split('| ')"
   ]
  },
  {
   "cell_type": "code",
   "execution_count": 30,
   "metadata": {},
   "outputs": [
    {
     "data": {
      "text/plain": [
       "'분식'"
      ]
     },
     "execution_count": 30,
     "metadata": {},
     "output_type": "execute_result"
    }
   ],
   "source": [
    "tmp.split('| ')[0]"
   ]
  },
  {
   "cell_type": "code",
   "execution_count": 31,
   "metadata": {},
   "outputs": [
    {
     "data": {
      "text/plain": [
       "'대전 유성구 어은동 108-3'"
      ]
     },
     "execution_count": 31,
     "metadata": {},
     "output_type": "execute_result"
    }
   ],
   "source": [
    "tmp.split('| ')[1]"
   ]
  },
  {
   "cell_type": "code",
   "execution_count": 32,
   "metadata": {},
   "outputs": [
    {
     "data": {
      "text/plain": [
       "'(042)862-3838'"
      ]
     },
     "execution_count": 32,
     "metadata": {},
     "output_type": "execute_result"
    }
   ],
   "source": [
    "dds[2].get_text()"
   ]
  },
  {
   "cell_type": "code",
   "execution_count": 39,
   "metadata": {},
   "outputs": [
    {
     "data": {
      "text/html": [
       "<div>\n",
       "<style scoped>\n",
       "    .dataframe tbody tr th:only-of-type {\n",
       "        vertical-align: middle;\n",
       "    }\n",
       "\n",
       "    .dataframe tbody tr th {\n",
       "        vertical-align: top;\n",
       "    }\n",
       "\n",
       "    .dataframe thead th {\n",
       "        text-align: right;\n",
       "    }\n",
       "</style>\n",
       "<table border=\"1\" class=\"dataframe\">\n",
       "  <thead>\n",
       "    <tr style=\"text-align: right;\">\n",
       "      <th></th>\n",
       "      <th>상호</th>\n",
       "      <th>별점</th>\n",
       "      <th>업종</th>\n",
       "      <th>주소</th>\n",
       "      <th>전화번호</th>\n",
       "    </tr>\n",
       "  </thead>\n",
       "  <tbody>\n",
       "    <tr>\n",
       "      <th>0</th>\n",
       "      <td>라라랄라어은점</td>\n",
       "      <td>4.2</td>\n",
       "      <td>분식</td>\n",
       "      <td>대전 유성구 어은동 108-3</td>\n",
       "      <td>(042)862-3838</td>\n",
       "    </tr>\n",
       "    <tr>\n",
       "      <th>1</th>\n",
       "      <td>리엔차이</td>\n",
       "      <td>3.8</td>\n",
       "      <td>중식</td>\n",
       "      <td>대전 유성구 죽동 627-1</td>\n",
       "      <td>(042)824-4499</td>\n",
       "    </tr>\n",
       "    <tr>\n",
       "      <th>2</th>\n",
       "      <td>메이드바이 더초콜릿</td>\n",
       "      <td>4.0</td>\n",
       "      <td>카페/주점</td>\n",
       "      <td>대전 유성구 궁동 419-2 1층</td>\n",
       "      <td>(042)823-7779</td>\n",
       "    </tr>\n",
       "    <tr>\n",
       "      <th>3</th>\n",
       "      <td>로아커피</td>\n",
       "      <td>4.0</td>\n",
       "      <td>카페/주점</td>\n",
       "      <td>대전 유성구 죽동 614-3</td>\n",
       "      <td>(042)826-7599</td>\n",
       "    </tr>\n",
       "    <tr>\n",
       "      <th>4</th>\n",
       "      <td>호텔리베라유성 카페엘루스</td>\n",
       "      <td>3.3</td>\n",
       "      <td>카페/주점</td>\n",
       "      <td>대전 유성구 봉명동 444-5</td>\n",
       "      <td>(042)828-4034</td>\n",
       "    </tr>\n",
       "    <tr>\n",
       "      <th>5</th>\n",
       "      <td>제이부페</td>\n",
       "      <td>3.4</td>\n",
       "      <td>뷔페</td>\n",
       "      <td>대전 유성구 봉명동 469-46 유성 자이아파트 상가 3층</td>\n",
       "      <td>(042)824-8833</td>\n",
       "    </tr>\n",
       "    <tr>\n",
       "      <th>6</th>\n",
       "      <td>피제리아614 죽동점</td>\n",
       "      <td>3.7</td>\n",
       "      <td>양식</td>\n",
       "      <td>대전 유성구 죽동 614-7</td>\n",
       "      <td>(042)826-6147</td>\n",
       "    </tr>\n",
       "    <tr>\n",
       "      <th>7</th>\n",
       "      <td>마들렌과자점</td>\n",
       "      <td>3.9</td>\n",
       "      <td>베이커리</td>\n",
       "      <td>대전 유성구 지족동 910-14</td>\n",
       "      <td>(042)476-1948</td>\n",
       "    </tr>\n",
       "    <tr>\n",
       "      <th>8</th>\n",
       "      <td>호텔리베라유성 델리샵</td>\n",
       "      <td>4.4</td>\n",
       "      <td>베이커리</td>\n",
       "      <td>대전 유성구 봉명동 444-5 리베라관광호텔</td>\n",
       "      <td>(042)828-4035</td>\n",
       "    </tr>\n",
       "    <tr>\n",
       "      <th>9</th>\n",
       "      <td>대사봉무쇠솥밥</td>\n",
       "      <td>3.1</td>\n",
       "      <td>한식</td>\n",
       "      <td>대전 유성구 갑동 327-9</td>\n",
       "      <td>(042)825-8803</td>\n",
       "    </tr>\n",
       "  </tbody>\n",
       "</table>\n",
       "</div>"
      ],
      "text/plain": [
       "              상호   별점     업종                                주소           전화번호\n",
       "0        라라랄라어은점  4.2     분식                  대전 유성구 어은동 108-3  (042)862-3838\n",
       "1           리엔차이  3.8     중식                   대전 유성구 죽동 627-1  (042)824-4499\n",
       "2     메이드바이 더초콜릿  4.0  카페/주점                대전 유성구 궁동 419-2 1층  (042)823-7779\n",
       "3           로아커피  4.0  카페/주점                   대전 유성구 죽동 614-3  (042)826-7599\n",
       "4  호텔리베라유성 카페엘루스  3.3  카페/주점                  대전 유성구 봉명동 444-5  (042)828-4034\n",
       "5           제이부페  3.4     뷔페  대전 유성구 봉명동 469-46 유성 자이아파트 상가 3층  (042)824-8833\n",
       "6    피제리아614 죽동점  3.7     양식                   대전 유성구 죽동 614-7  (042)826-6147\n",
       "7         마들렌과자점  3.9   베이커리                 대전 유성구 지족동 910-14  (042)476-1948\n",
       "8    호텔리베라유성 델리샵  4.4   베이커리          대전 유성구 봉명동 444-5 리베라관광호텔  (042)828-4035\n",
       "9        대사봉무쇠솥밥  3.1     한식                   대전 유성구 갑동 327-9  (042)825-8803"
      ]
     },
     "execution_count": 39,
     "metadata": {},
     "output_type": "execute_result"
    }
   ],
   "source": [
    "name = []\n",
    "score = []\n",
    "category = []\n",
    "addr = []\n",
    "tel = []\n",
    "\n",
    "for li in lis:\n",
    "    name.append(li.find('a').get_text())\n",
    "    score.append(li.find(class_='total').get_text())\n",
    "    dds = li.find_all('dd')\n",
    "    tmp = dds[1].get_text()\n",
    "    category.append(tmp.split('| ')[0])\n",
    "    addr.append(tmp.split('| ')[1])\n",
    "    tel.append(dds[2].get_text())\n",
    "    \n",
    "df = pd.DataFrame({'상호': name, '별점':score, '업종':category, '주소':addr, '전화번호': tel})\n",
    "df"
   ]
  },
  {
   "cell_type": "code",
   "execution_count": null,
   "metadata": {},
   "outputs": [],
   "source": []
  }
 ],
 "metadata": {
  "kernelspec": {
   "display_name": "Python 3",
   "language": "python",
   "name": "python3"
  },
  "language_info": {
   "codemirror_mode": {
    "name": "ipython",
    "version": 3
   },
   "file_extension": ".py",
   "mimetype": "text/x-python",
   "name": "python",
   "nbconvert_exporter": "python",
   "pygments_lexer": "ipython3",
   "version": "3.7.6"
  }
 },
 "nbformat": 4,
 "nbformat_minor": 4
}
