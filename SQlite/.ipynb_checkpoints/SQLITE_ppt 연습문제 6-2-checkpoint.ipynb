{
 "cells": [
  {
   "cell_type": "code",
   "execution_count": 10,
   "metadata": {},
   "outputs": [],
   "source": [
    "import sqlite3"
   ]
  },
  {
   "cell_type": "code",
   "execution_count": 11,
   "metadata": {},
   "outputs": [],
   "source": [
    "conn = sqlite3.connect(\"./testDB2.db\")"
   ]
  },
  {
   "cell_type": "code",
   "execution_count": 12,
   "metadata": {},
   "outputs": [
    {
     "data": {
      "text/plain": [
       "[]"
      ]
     },
     "execution_count": 12,
     "metadata": {},
     "output_type": "execute_result"
    }
   ],
   "source": [
    "cur = conn.cursor()\n",
    "cur.execute(\"SELECT * FROM singers\")\n",
    "rows = cur.fetchall()\n",
    "rows"
   ]
  },
  {
   "cell_type": "code",
   "execution_count": 13,
   "metadata": {},
   "outputs": [],
   "source": [
    "sql = \"INSERT INTO singers(name, member_no, debut, company) VALUES(?, ?, ?, ?)\"\n",
    "groups = [('방탄소년단',7, '2013-06-13', '빅히트'), ('마마무',4, '2014-06-19', 'RBW'), \n",
    "         ('우주소녀',13, '2016-02-25', '스타쉽'), ('블락비',7, '2011-04-15', 'KQ'), \n",
    "         ('엑소',9,'2012-04-08','SM'), ('트와이스',9,'2015-10-20','JYP')]\n",
    "for i in groups:\n",
    "    cur.execute(sql, i)\n",
    "conn.commit()"
   ]
  },
  {
   "cell_type": "code",
   "execution_count": 14,
   "metadata": {},
   "outputs": [
    {
     "data": {
      "text/plain": [
       "[]"
      ]
     },
     "execution_count": 14,
     "metadata": {},
     "output_type": "execute_result"
    }
   ],
   "source": [
    "cur = conn.cursor()\n",
    "cur.execute(\"SELECT * FROM songs\")\n",
    "rows = cur.fetchall()\n",
    "rows"
   ]
  },
  {
   "cell_type": "code",
   "execution_count": 29,
   "metadata": {},
   "outputs": [],
   "source": [
    "sql2 = \"INSERT INTO songs(song, gid, year, composer, lyrics ) VALUES(?, ?, ?, ?,?)\"\n",
    "groups = [('작은 것들을 위한 시',1, 2019, 'Pdogg 외', '모든 게 궁금해 How’s your day'),\n",
    "         ('FAKE LOVE',1, 2018, 'Pdogg 외', '널 위해서라면 난 슬퍼도 기쁜 척 할 수가 있었어'),\n",
    "         ('넌 is 뭔들',2, 2016, '김도훈 외', 'Hey 거기 미소가 예쁜 남자 바로 너'),\n",
    "         ('음오아예 (Um Oh Ah Yeh)',2, 2015, '김도훈', 'oh yes 음 오 아 예 너에게 빠져들겠어 자꾸 반응하잖아'),\n",
    "         ('HER',4, 2014, '지코 외', 'Jesus 무슨 말이 필요해 모두 널 작품이라고 불러'),\n",
    "         ('으르렁',5, 2013, '신혁 외', '나 으르렁 으르렁 으르렁 대 나 으르렁 으르렁 으르렁 대'),\n",
    "         ('MAMA',5, 2012, '유영진', 'Careless careless Shoot anonymous anonymous'),\n",
    "         ('CHEER UP',6, 2016, '블랙아이드필승 외', 'CHEER UP BABY CHEER UP BABY 좀 더 힘을 내'),\n",
    "         ('TT',6, 2016, '블랙아이드필승 외', '이런 내 맘 모르고 너무해 너무해'),\n",
    "         ('빨간 맛',11, 2017, 'Ludwig Lindell 외', '빨간 맛 궁금해 Honey 깨물면 점점 녹아든 스트로베리 그 맛')]\n",
    "for i in groups:\n",
    "    cur.execute(sql2, i)\n",
    "conn.commit()"
   ]
  },
  {
   "cell_type": "code",
   "execution_count": 40,
   "metadata": {},
   "outputs": [],
   "source": [
    "sql3 = \"INSERT INTO idol(idol_name, idol_member, idol_debut, idol_song, idol_year) VALUES(?, ?, ?, ?,?)\""
   ]
  },
  {
   "cell_type": "code",
   "execution_count": 43,
   "metadata": {},
   "outputs": [],
   "source": [
    "sql3 = \"SELECT singers.name, singers.member_no, singers.debut, songs.song, songs.year FROM singers inner join songs ON singers.id_=songs.song_id\""
   ]
  },
  {
   "cell_type": "code",
   "execution_count": 44,
   "metadata": {},
   "outputs": [
    {
     "data": {
      "text/plain": [
       "[('방탄소년단', 7, '2013-06-13', '작은 것들을 위한 시', 2019),\n",
       " ('마마무', 4, '2014-06-19', 'FAKE LOVE', 2018),\n",
       " ('우주소녀', 13, '2016-02-25', '넌 is 뭔들', 2016),\n",
       " ('블락비', 7, '2011-04-15', '음오아예 (Um Oh Ah Yeh)', 2015),\n",
       " ('엑소', 9, '2012-04-08', 'HER', 2014),\n",
       " ('트와이스', 9, '2015-10-20', '으르렁', 2013)]"
      ]
     },
     "execution_count": 44,
     "metadata": {},
     "output_type": "execute_result"
    }
   ],
   "source": [
    "cur.execute(sql3)\n",
    "results = cur.fetchall()\n",
    "results"
   ]
  },
  {
   "cell_type": "code",
   "execution_count": 45,
   "metadata": {},
   "outputs": [],
   "source": [
    "import pandas as pd"
   ]
  },
  {
   "cell_type": "code",
   "execution_count": 50,
   "metadata": {},
   "outputs": [
    {
     "data": {
      "text/html": [
       "<div>\n",
       "<style scoped>\n",
       "    .dataframe tbody tr th:only-of-type {\n",
       "        vertical-align: middle;\n",
       "    }\n",
       "\n",
       "    .dataframe tbody tr th {\n",
       "        vertical-align: top;\n",
       "    }\n",
       "\n",
       "    .dataframe thead th {\n",
       "        text-align: right;\n",
       "    }\n",
       "</style>\n",
       "<table border=\"1\" class=\"dataframe\">\n",
       "  <thead>\n",
       "    <tr style=\"text-align: right;\">\n",
       "      <th></th>\n",
       "      <th>0</th>\n",
       "      <th>1</th>\n",
       "      <th>2</th>\n",
       "      <th>3</th>\n",
       "      <th>4</th>\n",
       "    </tr>\n",
       "  </thead>\n",
       "  <tbody>\n",
       "    <tr>\n",
       "      <th>0</th>\n",
       "      <td>방탄소년단</td>\n",
       "      <td>7</td>\n",
       "      <td>2013-06-13</td>\n",
       "      <td>작은 것들을 위한 시</td>\n",
       "      <td>2019</td>\n",
       "    </tr>\n",
       "    <tr>\n",
       "      <th>1</th>\n",
       "      <td>마마무</td>\n",
       "      <td>4</td>\n",
       "      <td>2014-06-19</td>\n",
       "      <td>FAKE LOVE</td>\n",
       "      <td>2018</td>\n",
       "    </tr>\n",
       "    <tr>\n",
       "      <th>2</th>\n",
       "      <td>우주소녀</td>\n",
       "      <td>13</td>\n",
       "      <td>2016-02-25</td>\n",
       "      <td>넌 is 뭔들</td>\n",
       "      <td>2016</td>\n",
       "    </tr>\n",
       "    <tr>\n",
       "      <th>3</th>\n",
       "      <td>블락비</td>\n",
       "      <td>7</td>\n",
       "      <td>2011-04-15</td>\n",
       "      <td>음오아예 (Um Oh Ah Yeh)</td>\n",
       "      <td>2015</td>\n",
       "    </tr>\n",
       "    <tr>\n",
       "      <th>4</th>\n",
       "      <td>엑소</td>\n",
       "      <td>9</td>\n",
       "      <td>2012-04-08</td>\n",
       "      <td>HER</td>\n",
       "      <td>2014</td>\n",
       "    </tr>\n",
       "    <tr>\n",
       "      <th>5</th>\n",
       "      <td>트와이스</td>\n",
       "      <td>9</td>\n",
       "      <td>2015-10-20</td>\n",
       "      <td>으르렁</td>\n",
       "      <td>2013</td>\n",
       "    </tr>\n",
       "  </tbody>\n",
       "</table>\n",
       "</div>"
      ],
      "text/plain": [
       "       0   1           2                    3     4\n",
       "0  방탄소년단   7  2013-06-13          작은 것들을 위한 시  2019\n",
       "1    마마무   4  2014-06-19            FAKE LOVE  2018\n",
       "2   우주소녀  13  2016-02-25              넌 is 뭔들  2016\n",
       "3    블락비   7  2011-04-15  음오아예 (Um Oh Ah Yeh)  2015\n",
       "4     엑소   9  2012-04-08                  HER  2014\n",
       "5   트와이스   9  2015-10-20                  으르렁  2013"
      ]
     },
     "execution_count": 50,
     "metadata": {},
     "output_type": "execute_result"
    }
   ],
   "source": [
    "df=pd.DataFrame(results)\n",
    "df"
   ]
  },
  {
   "cell_type": "code",
   "execution_count": null,
   "metadata": {},
   "outputs": [],
   "source": []
  }
 ],
 "metadata": {
  "kernelspec": {
   "display_name": "Python 3",
   "language": "python",
   "name": "python3"
  },
  "language_info": {
   "codemirror_mode": {
    "name": "ipython",
    "version": 3
   },
   "file_extension": ".py",
   "mimetype": "text/x-python",
   "name": "python",
   "nbconvert_exporter": "python",
   "pygments_lexer": "ipython3",
   "version": "3.7.6"
  }
 },
 "nbformat": 4,
 "nbformat_minor": 4
}
